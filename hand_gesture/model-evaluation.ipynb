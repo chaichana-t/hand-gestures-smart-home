{
 "cells": [
  {
   "cell_type": "code",
   "execution_count": 24,
   "metadata": {},
   "outputs": [],
   "source": [
    "import torch\n",
    "\n",
    "import seaborn as sns\n",
    "import matplotlib.pyplot as plt\n",
    "from sklearn.metrics import classification_report, confusion_matrix\n",
    "\n",
    "from dataset import HandGestureDataset\n",
    "from model import HandGestureModel"
   ]
  },
  {
   "cell_type": "code",
   "execution_count": 12,
   "metadata": {},
   "outputs": [],
   "source": [
    "model = HandGestureModel()\n",
    "model.load_state_dict(torch.load('./models/2022-04-30-0/model.pt'))\n",
    "model.eval()\n",
    "\n",
    "val_dataset = HandGestureDataset(data_path='../data/dataset.json', dataset='test')"
   ]
  },
  {
   "cell_type": "code",
   "execution_count": 28,
   "metadata": {},
   "outputs": [
    {
     "name": "stdout",
     "output_type": "stream",
     "text": [
      "              precision    recall  f1-score   support\n",
      "\n",
      "           0     1.0000    1.0000    1.0000       613\n",
      "           1     1.0000    1.0000    1.0000       556\n",
      "           2     1.0000    1.0000    1.0000       143\n",
      "           3     1.0000    1.0000    1.0000       618\n",
      "           4     1.0000    1.0000    1.0000       550\n",
      "           5     1.0000    1.0000    1.0000       458\n",
      "\n",
      "    accuracy                         1.0000      2938\n",
      "   macro avg     1.0000    1.0000    1.0000      2938\n",
      "weighted avg     1.0000    1.0000    1.0000      2938\n",
      "\n"
     ]
    },
    {
     "data": {
      "image/png": "[encoded data removed]",
      "text/plain": [
       "<Figure size 504x360 with 2 Axes>"
      ]
     },
     "metadata": {
      "needs_background": "light"
     },
     "output_type": "display_data"
    }
   ],
   "source": [
    "y_pred = []\n",
    "y_true = []\n",
    "\n",
    "for input, label in val_dataset:\n",
    "    pred = model(torch.tensor([input]))\n",
    "    y_pred.append(pred.argmax().item())\n",
    "    y_true.append(label.argmax().item())\n",
    "\n",
    "print(classification_report(y_true, y_pred, digits=4))\n",
    "plt.figure(figsize=(7, 5))\n",
    "ax = sns.heatmap(confusion_matrix(y_true, y_pred), annot=True, cmap='Blues', fmt='g')\n",
    "ax.set(xlabel='Predict', ylabel='Actual')\n",
    "plt.show()"
   ]
  },
  {
   "cell_type": "code",
   "execution_count": null,
   "metadata": {},
   "outputs": [],
   "source": []
  }
 ],
 "metadata": {
  "interpreter": {
   "hash": "da55b9af884c05b3d21c006fe796efe17f134446bd33a0c143b664555ce242cd"
  },
  "kernelspec": {
   "display_name": "Python 3.9.7 ('hand-gesture')",
   "language": "python",
   "name": "python3"
  },
  "language_info": {
   "codemirror_mode": {
    "name": "ipython",
    "version": 3
   },
   "file_extension": ".py",
   "mimetype": "text/x-python",
   "name": "python",
   "nbconvert_exporter": "python",
   "pygments_lexer": "ipython3",
   "version": "3.9.7"
  },
  "orig_nbformat": 4
 },
 "nbformat": 4,
 "nbformat_minor": 2
}
